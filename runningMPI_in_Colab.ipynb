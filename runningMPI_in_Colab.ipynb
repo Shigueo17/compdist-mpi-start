{
  "nbformat": 4,
  "nbformat_minor": 0,
  "metadata": {
    "colab": {
      "name": "runningMPI-in-Colab.ipynb",
      "provenance": [],
      "authorship_tag": "ABX9TyM0Lp6s4TF9kckKhF144Qmr",
      "include_colab_link": true
    },
    "kernelspec": {
      "name": "python3",
      "display_name": "Python 3"
    },
    "language_info": {
      "name": "python"
    }
  },
  "cells": [
    {
      "cell_type": "markdown",
      "metadata": {
        "id": "view-in-github",
        "colab_type": "text"
      },
      "source": [
        "<a href=\"https://colab.research.google.com/github/profmariomenezes/compdist-mpi-start/blob/master/runningMPI_in_Colab.ipynb\" target=\"_parent\"><img src=\"https://colab.research.google.com/assets/colab-badge.svg\" alt=\"Open In Colab\"/></a>"
      ]
    },
    {
      "cell_type": "code",
      "execution_count": 1,
      "metadata": {
        "colab": {
          "base_uri": "https://localhost:8080/"
        },
        "id": "wT_CNHAL8KG_",
        "outputId": "47e93127-0acc-4193-f813-a46285704e04"
      },
      "outputs": [
        {
          "output_type": "stream",
          "name": "stdout",
          "text": [
            "Reading package lists... Done\n",
            "Building dependency tree       \n",
            "Reading state information... Done\n",
            "libopenmpi-dev is already the newest version (2.1.1-8).\n",
            "openmpi-bin is already the newest version (2.1.1-8).\n",
            "openmpi-bin set to manually installed.\n",
            "openmpi-common is already the newest version (2.1.1-8).\n",
            "openmpi-common set to manually installed.\n",
            "The following package was automatically installed and is no longer required:\n",
            "  libnvidia-common-460\n",
            "Use 'apt autoremove' to remove it.\n",
            "0 upgraded, 0 newly installed, 0 to remove and 20 not upgraded.\n"
          ]
        }
      ],
      "source": [
        "!apt install openmpi-bin openmpi-common libopenmpi-dev"
      ]
    },
    {
      "cell_type": "code",
      "source": [
        "%%writefile teste-mpi.c\n",
        "#include \"mpi.h\"\n",
        "#include <stdio.h>\n",
        "#include <math.h>\n",
        "#include <unistd.h>\n",
        "#include <stdlib.h>\n",
        "\n",
        "#define MAXSIZE 1000\n",
        "int main(int argc, char **argv)\n",
        "{\n",
        "\tint myid, numprocs;\n",
        "\tint data[MAXSIZE], i, x, low, high, myresult=0, result=0;\n",
        "\tFILE *fp;\n",
        "\tMPI_Init(&argc,&argv);\n",
        "\tMPI_Comm_size(MPI_COMM_WORLD,&numprocs);\n",
        "\tMPI_Comm_rank(MPI_COMM_WORLD,&myid);\n",
        "\tif (myid == 0) {  /* Open input file and initialize data */\n",
        "\t\tif ((fp = fopen(\"rand.txt\",\"r\")) == NULL) {\n",
        "\t\t\tprintf(\"Can't open the input file: rand.txt\\n\\n\");\n",
        "\t\t\texit(1);\n",
        "\t\t}\n",
        "\t\tfor(i = 0; i < MAXSIZE; i++) fscanf(fp,\"%d\\n\", &data[i]);\n",
        "\t}\n",
        "\tMPI_Bcast(data, MAXSIZE, MPI_INT, 0, MPI_COMM_WORLD); /* broadcast data */\n",
        "\tx = MAXSIZE/numprocs; /* Add my portion Of data */\n",
        "\tlow = myid * x;\n",
        "\thigh = low + x;\n",
        "\tfor(i = low; i < high; i++)\n",
        "\t\tmyresult += data[i];\n",
        "\tchar hostname[30];\n",
        "\tgethostname(hostname, 30);\n",
        "\tprintf(\"I got %d from %d - %s\\n\", myresult, myid, hostname); /* Compute global sum */\n",
        "\tMPI_Reduce(&myresult, &result, 1, MPI_INT, MPI_SUM, 0, MPI_COMM_WORLD);\n",
        "\tif (myid == 0) printf(\"The sum is %d.\\n\", result);\n",
        "\tMPI_Finalize();\n",
        "\treturn 0;\n",
        "}\n",
        "\n"
      ],
      "metadata": {
        "colab": {
          "base_uri": "https://localhost:8080/"
        },
        "id": "IjyITTZb8X4b",
        "outputId": "f32a3c94-b823-4a56-bc02-2267387e400e"
      },
      "execution_count": 6,
      "outputs": [
        {
          "output_type": "stream",
          "name": "stdout",
          "text": [
            "Overwriting teste-mpi.c\n"
          ]
        }
      ]
    },
    {
      "cell_type": "code",
      "source": [
        "!mpicc -o teste-mpi teste-mpi.c"
      ],
      "metadata": {
        "id": "e2YZ_O_e8y9s"
      },
      "execution_count": 7,
      "outputs": []
    },
    {
      "cell_type": "code",
      "source": [
        "!mpiexec  --allow-run-as-root -n 4 ./teste-mpi"
      ],
      "metadata": {
        "colab": {
          "base_uri": "https://localhost:8080/"
        },
        "id": "2bGIuJ1q85NZ",
        "outputId": "5224ebe9-9568-404e-be38-9ceb3d91bcac"
      },
      "execution_count": 9,
      "outputs": [
        {
          "output_type": "stream",
          "name": "stdout",
          "text": [
            "I got 11921 from 0 - de3e7747a929\n",
            "I got 12677 from 1 - de3e7747a929\n",
            "I got 11968 from 2 - de3e7747a929\n",
            "I got 11689 from 3 - de3e7747a929\n",
            "The sum is 48255.\n"
          ]
        }
      ]
    }
  ]
}